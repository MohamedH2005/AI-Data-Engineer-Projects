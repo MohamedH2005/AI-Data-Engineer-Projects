{
 "cells": [
  {
   "cell_type": "markdown",
   "metadata": {},
   "source": [
    "# Predictive Analytics Model - Titanic Dataset"
   ]
  },
  {
   "cell_type": "code",
   "execution_count": null,
   "metadata": {},
   "outputs": [],
   "source": [
    "import pandas as pd\n",
    "import seaborn as sns\n",
    "import matplotlib.pyplot as plt\n",
    "from sklearn.model_selection import train_test_split\n",
    "from sklearn.linear_model import LogisticRegression\n",
    "from sklearn.metrics import accuracy_score, confusion_matrix\n",
    "\n",
    "# -----------------------------\n",
    "# 1. Load Data\n",
    "# -----------------------------\n",
    "data = pd.read_csv(\"titanic.csv\")\n",
    "\n",
    "print(\"✅ Data Loaded Successfully!\")\n",
    "print(data.head())\n",
    "\n",
    "# -----------------------------\n",
    "# 2. Data Preprocessing\n",
    "# -----------------------------\n",
    "# حذف الأعمدة الغير مهمة\n",
    "data = data[[\"Survived\", \"Pclass\", \"Sex\", \"Age\", \"Fare\"]]\n",
    "\n",
    "# إزالة القيم الفارغة\n",
    "data.dropna(inplace=True)\n",
    "\n",
    "# تحويل categorical لرقمي\n",
    "data[\"Sex\"] = data[\"Sex\"].map({\"male\": 0, \"female\": 1})\n",
    "\n",
    "# -----------------------------\n",
    "# 3. Train/Test Split\n",
    "# -----------------------------\n",
    "X = data.drop(\"Survived\", axis=1)\n",
    "y = data[\"Survived\"]\n",
    "\n",
    "X_train, X_test, y_train, y_test = train_test_split(X, y, test_size=0.2, random_state=42)\n",
    "\n",
    "# -----------------------------\n",
    "# 4. Model Training\n",
    "# -----------------------------\n",
    "model = LogisticRegression(max_iter=1000)\n",
    "model.fit(X_train, y_train)\n",
    "\n",
    "# -----------------------------\n",
    "# 5. Evaluation\n",
    "# -----------------------------\n",
    "y_pred = model.predict(X_test)\n",
    "\n",
    "acc = accuracy_score(y_test, y_pred)\n",
    "cm = confusion_matrix(y_test, y_pred)\n",
    "\n",
    "print(f\"✅ Model Accuracy: {acc:.2f}\")\n",
    "\n",
    "# Visualization of confusion matrix\n",
    "sns.heatmap(cm, annot=True, fmt=\"d\", cmap=\"Blues\")\n",
    "plt.title(\"Confusion Matrix\")\n",
    "plt.xlabel(\"Predicted\")\n",
    "plt.ylabel(\"Actual\")\n",
    "plt.show()"
   ]
  }
 ],
 "metadata": {
  "kernelspec": {
   "display_name": "Python 3",
   "language": "python",
   "name": "python3"
  },
  "language_info": {
   "name": "python",
   "version": "3.8"
  }
 },
 "nbformat": 4,
 "nbformat_minor": 5
}